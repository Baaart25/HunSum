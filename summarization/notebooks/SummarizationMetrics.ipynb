{
 "cells": [
  {
   "cell_type": "markdown",
   "id": "f63da0be",
   "metadata": {},
   "source": [
    "# Dependencies"
   ]
  },
  {
   "cell_type": "code",
   "execution_count": 1,
   "id": "62f3f477",
   "metadata": {},
   "outputs": [],
   "source": [
    "import matplotlib.pyplot as plt\n",
    "import pandas as pd\n",
    "import numpy as np\n",
    "import glob"
   ]
  },
  {
   "cell_type": "markdown",
   "id": "b79daf42",
   "metadata": {},
   "source": [
    "# Load Data"
   ]
  },
  {
   "cell_type": "code",
   "execution_count": 2,
   "id": "da223286",
   "metadata": {},
   "outputs": [],
   "source": [
    "sites = glob.glob('*.gz')"
   ]
  },
  {
   "cell_type": "code",
   "execution_count": 3,
   "id": "b5a2d4ec",
   "metadata": {},
   "outputs": [
    {
     "data": {
      "text/plain": [
       "['24',\n",
       " 'hvg',\n",
       " 'index',\n",
       " 'm4sport',\n",
       " 'metropol',\n",
       " 'nepszava',\n",
       " 'origo',\n",
       " 'portfolio',\n",
       " 'telex']"
      ]
     },
     "execution_count": 3,
     "metadata": {},
     "output_type": "execute_result"
    }
   ],
   "source": [
    "site_names = [site.split('.')[0] for site in sites]\n",
    "site_names"
   ]
  },
  {
   "cell_type": "code",
   "execution_count": 4,
   "id": "e30d2240",
   "metadata": {},
   "outputs": [],
   "source": [
    "dfs = {}\n",
    "\n",
    "for site, name in zip(sites, site_names):\n",
    "    df = pd.read_json(site, lines=True, compression='gzip')\n",
    "    dfs[name] = df"
   ]
  },
  {
   "cell_type": "code",
   "execution_count": 5,
   "id": "113cc2f2",
   "metadata": {},
   "outputs": [
    {
     "data": {
      "text/html": [
       "<div>\n",
       "<style scoped>\n",
       "    .dataframe tbody tr th:only-of-type {\n",
       "        vertical-align: middle;\n",
       "    }\n",
       "\n",
       "    .dataframe tbody tr th {\n",
       "        vertical-align: top;\n",
       "    }\n",
       "\n",
       "    .dataframe thead th {\n",
       "        text-align: right;\n",
       "    }\n",
       "</style>\n",
       "<table border=\"1\" class=\"dataframe\">\n",
       "  <thead>\n",
       "    <tr style=\"text-align: right;\">\n",
       "      <th></th>\n",
       "      <th>uuid</th>\n",
       "      <th>title</th>\n",
       "      <th>lead</th>\n",
       "      <th>article</th>\n",
       "      <th>domain</th>\n",
       "      <th>url</th>\n",
       "      <th>date_of_creation</th>\n",
       "      <th>cc_date</th>\n",
       "      <th>tags</th>\n",
       "    </tr>\n",
       "  </thead>\n",
       "  <tbody>\n",
       "    <tr>\n",
       "      <th>0</th>\n",
       "      <td>e8e3aee8-070d-4655-a9ba-349dc9eb50f0</td>\n",
       "      <td>Inspiráció felsőfokon, avagy az egyediség tesz...</td>\n",
       "      <td>A lenyűgöző otthon tervezője és megálmodója, M...</td>\n",
       "      <td>Manon Valesca Maria a “The Life Traveler” blog...</td>\n",
       "      <td>24.hu</td>\n",
       "      <td>https://24.hu/otthon/2017/08/24/inspiracio-fel...</td>\n",
       "      <td>2017-08-24T09:15:00</td>\n",
       "      <td>2020-10-25T17:46:00</td>\n",
       "      <td>[Otthon]</td>\n",
       "    </tr>\n",
       "    <tr>\n",
       "      <th>1</th>\n",
       "      <td>cf031445-163e-444f-ba11-e7da1bd1e093</td>\n",
       "      <td>Visszakérné férjétől a veséjét, mert a férfi e...</td>\n",
       "      <td>A megcsalt asszony azt kívánja, bárcsak valaki...</td>\n",
       "      <td>2009 őszén, a most 41 éves Samantha Lamb so...</td>\n",
       "      <td>24.hu</td>\n",
       "      <td>https://24.hu/elet-stilus/2014/01/27/visszaker...</td>\n",
       "      <td>2014-01-27T13:25:00</td>\n",
       "      <td>2020-07-10T07:38:12</td>\n",
       "      <td>[Élet-Stílus]</td>\n",
       "    </tr>\n",
       "    <tr>\n",
       "      <th>2</th>\n",
       "      <td>859b1db3-24ae-471e-9930-6ebc316b307a</td>\n",
       "      <td>Félévnyi alvás marad ki a kismamák és kispapák...</td>\n",
       "      <td>Az első két évben a minimum 5 helyett van, aki...</td>\n",
       "      <td>Az újszülöttek szülei 6 hónapnyi alvási ...</td>\n",
       "      <td>24.hu</td>\n",
       "      <td>https://24.hu/elet-stilus/2010/07/30/felevnyi-...</td>\n",
       "      <td>2010-07-30T07:36:00</td>\n",
       "      <td>2021-09-22T00:36:12</td>\n",
       "      <td>[Élet-Stílus]</td>\n",
       "    </tr>\n",
       "    <tr>\n",
       "      <th>3</th>\n",
       "      <td>d8a6ea8b-a443-423a-8e1c-0803eb5f26ed</td>\n",
       "      <td>Neten is kampányol a Fidesz a Jobbik-alelnök l...</td>\n",
       "      <td>Szerintük Janiczak Dávid nemi erőszakkal fenye...</td>\n",
       "      <td>A Fidesz ifjúsági szárnya, a Fidelitas onli...</td>\n",
       "      <td>24.hu</td>\n",
       "      <td>https://24.hu/belfold/2018/03/27/fidesz-jobbik...</td>\n",
       "      <td>2018-03-27T15:04:00</td>\n",
       "      <td>2018-11-16T18:33:49</td>\n",
       "      <td>[fidesz]</td>\n",
       "    </tr>\n",
       "    <tr>\n",
       "      <th>4</th>\n",
       "      <td>17a0a40b-7025-45f7-a412-1b3b1571ad79</td>\n",
       "      <td>A drónverseny már létezik és leszakítja az arcod</td>\n",
       "      <td>Nagyon magasak a részvételi adatok az időközi ...</td>\n",
       "      <td>Közelebb hoz egy lépéssel a Csillagok hábo...</td>\n",
       "      <td>24.hu</td>\n",
       "      <td>https://24.hu/tech/2017/06/24/a-dronverseny-ma...</td>\n",
       "      <td>2017-06-24T17:25:00</td>\n",
       "      <td>2018-02-25T18:06:49</td>\n",
       "      <td>[drón]</td>\n",
       "    </tr>\n",
       "  </tbody>\n",
       "</table>\n",
       "</div>"
      ],
      "text/plain": [
       "                                   uuid  \\\n",
       "0  e8e3aee8-070d-4655-a9ba-349dc9eb50f0   \n",
       "1  cf031445-163e-444f-ba11-e7da1bd1e093   \n",
       "2  859b1db3-24ae-471e-9930-6ebc316b307a   \n",
       "3  d8a6ea8b-a443-423a-8e1c-0803eb5f26ed   \n",
       "4  17a0a40b-7025-45f7-a412-1b3b1571ad79   \n",
       "\n",
       "                                               title  \\\n",
       "0  Inspiráció felsőfokon, avagy az egyediség tesz...   \n",
       "1  Visszakérné férjétől a veséjét, mert a férfi e...   \n",
       "2  Félévnyi alvás marad ki a kismamák és kispapák...   \n",
       "3  Neten is kampányol a Fidesz a Jobbik-alelnök l...   \n",
       "4   A drónverseny már létezik és leszakítja az arcod   \n",
       "\n",
       "                                                lead  \\\n",
       "0  A lenyűgöző otthon tervezője és megálmodója, M...   \n",
       "1  A megcsalt asszony azt kívánja, bárcsak valaki...   \n",
       "2  Az első két évben a minimum 5 helyett van, aki...   \n",
       "3  Szerintük Janiczak Dávid nemi erőszakkal fenye...   \n",
       "4  Nagyon magasak a részvételi adatok az időközi ...   \n",
       "\n",
       "                                             article domain  \\\n",
       "0  Manon Valesca Maria a “The Life Traveler” blog...  24.hu   \n",
       "1  2009 őszén, a most 41 éves Samantha Lamb so...  24.hu   \n",
       "2  Az újszülöttek szülei 6 hónapnyi alvási ...  24.hu   \n",
       "3  A Fidesz ifjúsági szárnya, a Fidelitas onli...  24.hu   \n",
       "4  Közelebb hoz egy lépéssel a Csillagok hábo...  24.hu   \n",
       "\n",
       "                                                 url     date_of_creation  \\\n",
       "0  https://24.hu/otthon/2017/08/24/inspiracio-fel...  2017-08-24T09:15:00   \n",
       "1  https://24.hu/elet-stilus/2014/01/27/visszaker...  2014-01-27T13:25:00   \n",
       "2  https://24.hu/elet-stilus/2010/07/30/felevnyi-...  2010-07-30T07:36:00   \n",
       "3  https://24.hu/belfold/2018/03/27/fidesz-jobbik...  2018-03-27T15:04:00   \n",
       "4  https://24.hu/tech/2017/06/24/a-dronverseny-ma...  2017-06-24T17:25:00   \n",
       "\n",
       "               cc_date           tags  \n",
       "0  2020-10-25T17:46:00       [Otthon]  \n",
       "1  2020-07-10T07:38:12  [Élet-Stílus]  \n",
       "2  2021-09-22T00:36:12  [Élet-Stílus]  \n",
       "3  2018-11-16T18:33:49       [fidesz]  \n",
       "4  2018-02-25T18:06:49         [drón]  "
      ]
     },
     "execution_count": 5,
     "metadata": {},
     "output_type": "execute_result"
    }
   ],
   "source": [
    "all_df = pd.concat(dfs.values())\n",
    "all_df.head()"
   ]
  },
  {
   "cell_type": "code",
   "execution_count": 27,
   "id": "a9397040",
   "metadata": {
    "scrolled": true
   },
   "outputs": [
    {
     "data": {
      "text/plain": [
       "(1148247, 9)"
      ]
     },
     "execution_count": 27,
     "metadata": {},
     "output_type": "execute_result"
    }
   ],
   "source": [
    "all_df.shape"
   ]
  },
  {
   "cell_type": "markdown",
   "id": "008a4ffe",
   "metadata": {},
   "source": [
    "## Article Count"
   ]
  },
  {
   "cell_type": "code",
   "execution_count": 28,
   "id": "0a4ab458",
   "metadata": {
    "scrolled": true
   },
   "outputs": [
    {
     "data": {
      "text/plain": [
       "domain\n",
       "telex.hu          4446\n",
       "metropol.hu      11119\n",
       "m4sport.hu       17915\n",
       "portfolio.hu     22572\n",
       "nepszava.hu      56738\n",
       "index.hu        154494\n",
       "hvg.hu          216755\n",
       "origo.hu        304968\n",
       "24.hu           359240\n",
       "Name: domain, dtype: int64"
      ]
     },
     "execution_count": 28,
     "metadata": {},
     "output_type": "execute_result"
    }
   ],
   "source": [
    "article_count = all_df.groupby('domain')['domain'].count().sort_values(ascending=True)\n",
    "article_count"
   ]
  },
  {
   "cell_type": "markdown",
   "id": "21fe1be6",
   "metadata": {},
   "source": [
    "## N-Grams"
   ]
  },
  {
   "cell_type": "code",
   "execution_count": 100,
   "id": "067dac7e",
   "metadata": {
    "scrolled": true
   },
   "outputs": [],
   "source": [
    "from collections import defaultdict\n",
    "from nltk.corpus import stopwords\n",
    "import string\n",
    "punctuation = [',', ':', '!', '?', ';', '-', '_', '–', '—']"
   ]
  },
  {
   "cell_type": "code",
   "execution_count": 101,
   "id": "887f5d7b",
   "metadata": {},
   "outputs": [],
   "source": [
    "def generate_N_grams(text: str, ngram=1):\n",
    "    words = [word for word in text.split(\" \") if (word not in punctuation)] \n",
    "    temp = zip(*[words[i:] for i in range(0, ngram)])\n",
    "    ans = [' '.join(ngram) for ngram in temp]\n",
    "    return ans"
   ]
  },
  {
   "cell_type": "markdown",
   "id": "98015963",
   "metadata": {},
   "source": [
    "## Novel N-gram Ratio"
   ]
  },
  {
   "cell_type": "markdown",
   "id": "c69e6370",
   "metadata": {},
   "source": [
    "The percentage of n-grams in the summary that do not occur in the input article is a means of measuring abstractiveness"
   ]
  },
  {
   "cell_type": "code",
   "execution_count": 31,
   "id": "7ef23871",
   "metadata": {},
   "outputs": [],
   "source": [
    "def novel_N_gram_ratio(ngram=1):\n",
    "    n_grams = set()\n",
    "    n_grams_not_in_article = set()\n",
    "    article_words = set()\n",
    "    \n",
    "    for text in all_df.lead:\n",
    "        for word in generate_N_grams(str(text), ngram):\n",
    "            n_grams.add(word)\n",
    "    \n",
    "    for text in all_df.article:\n",
    "        for word in generate_N_grams(str(text), ngram):\n",
    "            article_words.add(word)\n",
    "            \n",
    "    n_grams_not_in_article = [n_gram for n_gram in n_grams if n_gram not in article_words]\n",
    "    \n",
    "    return len(n_grams_not_in_article) / len(n_grams)"
   ]
  },
  {
   "cell_type": "code",
   "execution_count": 32,
   "id": "c6e4b368",
   "metadata": {},
   "outputs": [
    {
     "name": "stdout",
     "output_type": "stream",
     "text": [
      "novel unigram ratio: 78.0%\n"
     ]
    }
   ],
   "source": [
    "unigram_ratio = novel_N_gram_ratio(ngram=1)\n",
    "print(f\"novel unigram ratio: {round(unigram_ratio, 4) * 100}%\")"
   ]
  },
  {
   "cell_type": "code",
   "execution_count": 33,
   "id": "8d312554",
   "metadata": {},
   "outputs": [
    {
     "name": "stdout",
     "output_type": "stream",
     "text": [
      "novel bigram ratio: 90.09%\n"
     ]
    }
   ],
   "source": [
    "bigram_ratio = novel_N_gram_ratio(ngram=2)\n",
    "print(f\"novel bigram ratio: {round(bigram_ratio, 4) * 100}%\")"
   ]
  },
  {
   "cell_type": "code",
   "execution_count": 34,
   "id": "1fdaf329",
   "metadata": {},
   "outputs": [
    {
     "name": "stdout",
     "output_type": "stream",
     "text": [
      "novel trigram ratio: 95.48%\n"
     ]
    }
   ],
   "source": [
    "trigram_ratio = novel_N_gram_ratio(ngram=3)\n",
    "print(f\"novel trigram ratio: {round(trigram_ratio, 4) * 100}%\")"
   ]
  },
  {
   "cell_type": "markdown",
   "id": "3afdabed",
   "metadata": {},
   "source": [
    "## Abstractivity"
   ]
  },
  {
   "cell_type": "markdown",
   "id": "ae8f0d38",
   "metadata": {},
   "source": [
    "$$\n",
    "  1 - \\frac{\\sum |Fragment|}{|Summary|}\n",
    "$$"
   ]
  },
  {
   "cell_type": "code",
   "execution_count": 7,
   "id": "a81eb4b5",
   "metadata": {},
   "outputs": [],
   "source": [
    "from newsroom.analyze import Fragments"
   ]
  },
  {
   "cell_type": "code",
   "execution_count": 8,
   "id": "724ee8b9",
   "metadata": {},
   "outputs": [],
   "source": [
    "def abstractivity():\n",
    "    results = []\n",
    "    for lead, article in zip(all_df.lead, all_df.article):\n",
    "        fragment = Fragments(lead, article)\n",
    "        results.append(1 - fragment.coverage()) #coverage method calculates sum(|fragment|)/|summary|\n",
    "    return results"
   ]
  },
  {
   "cell_type": "code",
   "execution_count": 9,
   "id": "b292bfd4",
   "metadata": {},
   "outputs": [
    {
     "name": "stderr",
     "output_type": "stream",
     "text": [
      "C:\\Users\\nyist\\miniconda3\\envs\\summ\\lib\\site-packages\\spacy\\pipeline\\lemmatizer.py:211: UserWarning: [W108] The rule-based lemmatizer did not find POS annotation for one or more tokens. Check that your pipeline includes components that assign token.pos, typically 'tagger'+'attribute_ruler' or 'morphologizer'.\n",
      "  warnings.warn(Warnings.W108)\n"
     ]
    }
   ],
   "source": [
    "abstractivity_data = abstractivity()"
   ]
  },
  {
   "cell_type": "code",
   "execution_count": 10,
   "id": "78a468c6",
   "metadata": {},
   "outputs": [
    {
     "name": "stdout",
     "output_type": "stream",
     "text": [
      "abstractivity: 58.13\n"
     ]
    }
   ],
   "source": [
    "abstractivity = sum(abstractivity_data) / len(abstractivity_data)\n",
    "print(f\"abstractivity: {round(abstractivity, 4) * 100}\")"
   ]
  },
  {
   "cell_type": "markdown",
   "id": "d57aa085",
   "metadata": {},
   "source": [
    "## Compression"
   ]
  },
  {
   "cell_type": "markdown",
   "id": "e705181d",
   "metadata": {},
   "source": [
    "$$\n",
    "1 - \\frac{|Summary|}{|Article|}\n",
    "$$"
   ]
  },
  {
   "cell_type": "code",
   "execution_count": 35,
   "id": "f44ba99d",
   "metadata": {},
   "outputs": [],
   "source": [
    "def compression():\n",
    "    results = []\n",
    "    for lead, article in zip(all_df.lead, all_df.article):\n",
    "        lead_len = 0\n",
    "        article_len = 0\n",
    "        for word in lead.split(\" \"):\n",
    "            lead_len += 1\n",
    "        for word in article.split(\" \"):\n",
    "            article_len += 1\n",
    "        results.append(1 - lead_len / article_len)\n",
    "    return results"
   ]
  },
  {
   "cell_type": "code",
   "execution_count": 36,
   "id": "d23089e8",
   "metadata": {},
   "outputs": [],
   "source": [
    "compression_data = compression()"
   ]
  },
  {
   "cell_type": "code",
   "execution_count": 37,
   "id": "bf069641",
   "metadata": {},
   "outputs": [
    {
     "name": "stdout",
     "output_type": "stream",
     "text": [
      "compression: 88.58\n"
     ]
    }
   ],
   "source": [
    "compression = sum(compression_data) / len(compression_data)\n",
    "print(f\"compression: {round(compression, 4) * 100}\")"
   ]
  },
  {
   "cell_type": "markdown",
   "id": "de9e8a7b",
   "metadata": {},
   "source": [
    "## Redundancy"
   ]
  },
  {
   "cell_type": "markdown",
   "id": "cbdf044a",
   "metadata": {},
   "source": [
    "$$\n",
    "  \\frac{\\sum (Frequency - 1)}{\\sum Frequency}\n",
    "$$"
   ]
  },
  {
   "cell_type": "code",
   "execution_count": 109,
   "id": "5b65309f",
   "metadata": {},
   "outputs": [],
   "source": [
    "def redundancy(ngram=1):\n",
    "    results = []\n",
    "    \n",
    "    for text in all_df.lead:\n",
    "        n_grams = defaultdict(int)\n",
    "        numerator = []\n",
    "        for word in generate_N_grams(str(text), ngram):\n",
    "            n_grams[word] += 1\n",
    "\n",
    "        if(sum(n_grams.values()) == 0):\n",
    "            break\n",
    "            \n",
    "        numerator = [value - 1 for value in n_grams.values()]\n",
    "        results.append(sum(numerator) / sum(n_grams.values()))\n",
    "        \n",
    "    return results"
   ]
  },
  {
   "cell_type": "code",
   "execution_count": 110,
   "id": "bddc5814",
   "metadata": {},
   "outputs": [
    {
     "name": "stdout",
     "output_type": "stream",
     "text": [
      "unigram redundancy: 6.58\n"
     ]
    }
   ],
   "source": [
    "unigram_redundancy_data = redundancy(ngram=1)\n",
    "unigram_redundancy = sum(unigram_redundancy_data) / len(unigram_redundancy_data)\n",
    "print(f\"unigram redundancy: {round(unigram_redundancy, 4) * 100}\")"
   ]
  },
  {
   "cell_type": "code",
   "execution_count": 130,
   "id": "10910735",
   "metadata": {},
   "outputs": [
    {
     "name": "stdout",
     "output_type": "stream",
     "text": [
      "bigram redundancy: 0.1\n"
     ]
    }
   ],
   "source": [
    "bigram_redundancy_data = redundancy(ngram=2)\n",
    "bigram_redundancy = sum(bigram_redundancy_data) / len(bigram_redundancy_data)\n",
    "print(f\"bigram redundancy: {round(bigram_redundancy, 4) * 100}\")"
   ]
  },
  {
   "cell_type": "markdown",
   "id": "f1072c80",
   "metadata": {},
   "source": [
    "## Utils"
   ]
  },
  {
   "cell_type": "code",
   "execution_count": 132,
   "id": "86586f0a",
   "metadata": {},
   "outputs": [],
   "source": [
    "def rounding(metric):\n",
    "    return round(metric, 4) * 100"
   ]
  },
  {
   "cell_type": "markdown",
   "id": "61a33a37",
   "metadata": {},
   "source": [
    "## Evaluation"
   ]
  },
  {
   "cell_type": "code",
   "execution_count": 133,
   "id": "3860b433",
   "metadata": {},
   "outputs": [
    {
     "data": {
      "text/html": [
       "<div>\n",
       "<style scoped>\n",
       "    .dataframe tbody tr th:only-of-type {\n",
       "        vertical-align: middle;\n",
       "    }\n",
       "\n",
       "    .dataframe tbody tr th {\n",
       "        vertical-align: top;\n",
       "    }\n",
       "\n",
       "    .dataframe thead th {\n",
       "        text-align: right;\n",
       "    }\n",
       "</style>\n",
       "<table border=\"1\" class=\"dataframe\">\n",
       "  <thead>\n",
       "    <tr style=\"text-align: right;\">\n",
       "      <th></th>\n",
       "      <th>NNG-1</th>\n",
       "      <th>NNG-2</th>\n",
       "      <th>NNG-3</th>\n",
       "      <th>ABS</th>\n",
       "      <th>CMP</th>\n",
       "      <th>RED-1</th>\n",
       "      <th>RED-2</th>\n",
       "    </tr>\n",
       "  </thead>\n",
       "  <tbody>\n",
       "    <tr>\n",
       "      <th>0</th>\n",
       "      <td>78.0</td>\n",
       "      <td>90.09</td>\n",
       "      <td>95.48</td>\n",
       "      <td>TBD</td>\n",
       "      <td>88.58</td>\n",
       "      <td>6.58</td>\n",
       "      <td>0.1</td>\n",
       "    </tr>\n",
       "  </tbody>\n",
       "</table>\n",
       "</div>"
      ],
      "text/plain": [
       "   NNG-1  NNG-2  NNG-3  ABS    CMP  RED-1  RED-2\n",
       "0   78.0  90.09  95.48  TBD  88.58   6.58    0.1"
      ]
     },
     "execution_count": 133,
     "metadata": {},
     "output_type": "execute_result"
    }
   ],
   "source": [
    "data = {\n",
    "    'NNG-1': [rounding(unigram_ratio)],\n",
    "    'NNG-2': [rounding(bigram_ratio)],\n",
    "    'NNG-3': [rounding(trigram_ratio)],\n",
    "    'ABS':   ['TBD'],\n",
    "    'CMP':   [rounding(compression)],\n",
    "    'RED-1': [rounding(unigram_redundancy)],\n",
    "    'RED-2': [rounding(bigram_redundancy)],\n",
    "}\n",
    "\n",
    "pd.DataFrame(data=data)"
   ]
  },
  {
   "cell_type": "markdown",
   "id": "147d77b3",
   "metadata": {},
   "source": [
    "##### It is preferred of a good summary to have a high novel n-gram ratio, abstractivity, and compression; while having a low redundancy score..."
   ]
  }
 ],
 "metadata": {
  "kernelspec": {
   "display_name": "Python 3 (ipykernel)",
   "language": "python",
   "name": "python3"
  },
  "language_info": {
   "codemirror_mode": {
    "name": "ipython",
    "version": 3
   },
   "file_extension": ".py",
   "mimetype": "text/x-python",
   "name": "python",
   "nbconvert_exporter": "python",
   "pygments_lexer": "ipython3",
   "version": "3.8.13"
  }
 },
 "nbformat": 4,
 "nbformat_minor": 5
}
